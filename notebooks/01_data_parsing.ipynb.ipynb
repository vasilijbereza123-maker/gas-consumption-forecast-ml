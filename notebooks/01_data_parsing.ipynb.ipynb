{
 "cells": [
  {
   "cell_type": "code",
   "execution_count": 10,
   "id": "9e03061a",
   "metadata": {},
   "outputs": [
    {
     "name": "stdout",
     "output_type": "stream",
     "text": [
      "Библиотеки загружены.\n"
     ]
    }
   ],
   "source": [
    "import pandas as pd\n",
    "import numpy as np\n",
    "import os\n",
    "from datetime import datetime, timedelta\n",
    "\n",
    "# Путь к данным\n",
    "RAW_PATH = \"../data/raw/\"\n",
    "os.makedirs(\"../data/processed\", exist_ok=True)\n",
    "\n",
    "print(\"Библиотеки загружены.\")"
   ]
  },
  {
   "cell_type": "code",
   "execution_count": 14,
   "id": "00170aec",
   "metadata": {},
   "outputs": [],
   "source": [
    "def excel_to_date(excel_date):\n",
    "    \"\"\"Конвертирует Excel-дату (44562) → datetime\"\"\"\n",
    "    if pd.isna(excel_date):\n",
    "        return pd.NaT\n",
    "    if isinstance(excel_date, (pd.Timestamp, datetime)):\n",
    "        return pd.Timestamp(excel_date)\n",
    "    try:\n",
    "        return datetime(1899, 12, 30) + timedelta(days=int(excel_date))\n",
    "    except:\n",
    "        return pd.NaT"
   ]
  },
  {
   "cell_type": "code",
   "execution_count": 15,
   "id": "6638821c",
   "metadata": {},
   "outputs": [
    {
     "name": "stdout",
     "output_type": "stream",
     "text": [
      "Загружаем: gas.xlsx\n",
      "Загружаем: нагрузка_котельной_2022.xlsx\n",
      "Загружаем: нагрузка_котельной_2023_2024.xlsx\n",
      "Загружаем: boiler_own_needs_2022.xlsx\n",
      "Загружаем: network_losses.xlsx\n",
      "Загружаем: pasport_gas_2022_2024.xlsx\n",
      "Загружаем: средние_температуры_по_дням.csv\n",
      "Загружаем: moscow_temp_2022_2024.csv\n",
      "Загружаем: thermal_network_data.csv\n",
      "\n",
      "Загружено 9 файлов.\n"
     ]
    }
   ],
   "source": [
    "files = {\n",
    "    \"gas\": \"gas.xlsx\",\n",
    "    \"boiler_2022\": \"нагрузка_котельной_2022.xlsx\",\n",
    "    \"boiler_2023_2024\": \"нагрузка_котельной_2023_2024.xlsx\",\n",
    "    \"own_needs\": \"boiler_own_needs_2022.xlsx\",\n",
    "    \"network_losses\": \"network_losses.xlsx\",\n",
    "    \"gas_passport\": \"pasport_gas_2022_2024.xlsx\",\n",
    "    \"temp_daily\": \"средние_температуры_по_дням.csv\",\n",
    "    \"temp_hourly\": \"moscow_temp_2022_2024.csv\",\n",
    "    \"thermal\": \"thermal_network_data.csv\"\n",
    "}\n",
    "\n",
    "dfs = {}\n",
    "for name, file in files.items():\n",
    "    path = os.path.join(RAW_PATH, file)\n",
    "    if not os.path.exists(path):\n",
    "        print(f\"Warning: {file} НЕ НАЙДЕН\")\n",
    "        continue\n",
    "    \n",
    "    print(f\"Загружаем: {file}\")\n",
    "    if file.endswith(\".xlsx\"):\n",
    "        df = pd.read_excel(path, sheet_name=0)\n",
    "        # Находим колонку с датой\n",
    "        date_cols = [col for col in df.columns if 'date' in str(col).lower()]\n",
    "        if date_cols:\n",
    "            date_col = date_cols[0]\n",
    "            df[date_col] = df[date_col].apply(excel_to_date)\n",
    "            df = df.rename(columns={date_col: 'date'})\n",
    "        dfs[name] = df\n",
    "    else:\n",
    "        df = pd.read_csv(path)\n",
    "        # CSV: timestamp или datetime\n",
    "        if 'timestamp' in df.columns:\n",
    "            df['date'] = pd.to_datetime(df['timestamp'])\n",
    "        elif 'datetime' in df.columns:\n",
    "            df['date'] = pd.to_datetime(df['datetime'])\n",
    "        dfs[name] = df\n",
    "\n",
    "print(f\"\\nЗагружено {len(dfs)} файлов.\")"
   ]
  },
  {
   "cell_type": "code",
   "execution_count": 16,
   "id": "15966f8f",
   "metadata": {},
   "outputs": [],
   "source": [
    "# Базовый индекс\n",
    "all_dates = pd.date_range(start='2022-01-01', end='2024-12-31', freq='D')\n",
    "daily_df = pd.DataFrame(index=all_dates).rename_axis('date')"
   ]
  },
  {
   "cell_type": "code",
   "execution_count": 17,
   "id": "76d8e8df",
   "metadata": {},
   "outputs": [
    {
     "name": "stdout",
     "output_type": "stream",
     "text": [
      "Vgas_m3 добавлен\n"
     ]
    }
   ],
   "source": [
    "if 'gas' in dfs:\n",
    "    gas_df = dfs['gas'].copy()\n",
    "    gas_df['date'] = gas_df['date'].dt.floor('D')\n",
    "    gas_series = gas_df.set_index('date')['Vgas, m3']\n",
    "    gas_series.name = 'Vgas_m3'\n",
    "    daily_df = daily_df.join(gas_series, how='left')\n",
    "    print(\"Vgas_m3 добавлен\")\n",
    "else:\n",
    "    print(\"gas.xlsx не загружен\")"
   ]
  },
  {
   "cell_type": "code",
   "execution_count": 18,
   "id": "8ede5d64",
   "metadata": {},
   "outputs": [
    {
     "name": "stdout",
     "output_type": "stream",
     "text": [
      "Qboiler_prod_Gcal добавлен\n"
     ]
    },
    {
     "name": "stderr",
     "output_type": "stream",
     "text": [
      "C:\\Temp\\ipykernel_10540\\2199547726.py:9: FutureWarning: The behavior of array concatenation with empty entries is deprecated. In a future version, this will no longer exclude empty items when determining the result dtype. To retain the old behavior, exclude the empty entries before the concat operation.\n",
      "  boiler_prod = pd.concat([boiler_prod, b22_series])\n"
     ]
    }
   ],
   "source": [
    "boiler_prod = pd.Series(dtype=float)\n",
    "\n",
    "# 2022 — ежедневно\n",
    "if 'boiler_2022' in dfs:\n",
    "    b22 = dfs['boiler_2022'].copy()\n",
    "    b22['date'] = b22['date'].dt.floor('D')\n",
    "    b22_series = b22.set_index('date')['Qboiler_prod, Gcal']\n",
    "    b22_series.name = 'Qboiler_prod_Gcal'\n",
    "    boiler_prod = pd.concat([boiler_prod, b22_series])\n",
    "\n",
    "# 2023-2024 — ежемесячно → ffill\n",
    "if 'boiler_2023_2024' in dfs:\n",
    "    b34 = dfs['boiler_2023_2024'].copy()\n",
    "    b34['date'] = b34['date'].dt.to_period('M').dt.to_timestamp()\n",
    "    b34_series = b34.set_index('date')['Qboiler_prod, Gcal']\n",
    "    b34_series.name = 'Qboiler_prod_Gcal'\n",
    "    b34_daily = b34_series.resample('D').ffill()\n",
    "    boiler_prod = pd.concat([boiler_prod, b34_daily])\n",
    "\n",
    "boiler_prod = boiler_prod[~boiler_prod.index.duplicated(keep='last')]\n",
    "daily_df = daily_df.join(boiler_prod.rename('Qboiler_prod_Gcal'), how='left')\n",
    "print(\"Qboiler_prod_Gcal добавлен\")"
   ]
  },
  {
   "cell_type": "code",
   "execution_count": 19,
   "id": "9f2ca635",
   "metadata": {},
   "outputs": [
    {
     "name": "stdout",
     "output_type": "stream",
     "text": [
      "air_temp_daily добавлен\n"
     ]
    }
   ],
   "source": [
    "if 'temp_daily' in dfs:\n",
    "    temp_d = dfs['temp_daily'].copy()\n",
    "    temp_d['date'] = pd.to_datetime(temp_d['timestamp'])\n",
    "    temp_series = temp_d.set_index('date')['air_temp']  # <-- именно air_temp\n",
    "    temp_series.name = 'air_temp_daily'\n",
    "    daily_df = daily_df.join(temp_series, how='left')\n",
    "    print(\"air_temp_daily добавлен\")"
   ]
  },
  {
   "cell_type": "code",
   "execution_count": 20,
   "id": "89fd9346",
   "metadata": {},
   "outputs": [
    {
     "name": "stdout",
     "output_type": "stream",
     "text": [
      "Qgas_ccal_m3 добавлен\n"
     ]
    }
   ],
   "source": [
    "if 'gas_passport' in dfs:\n",
    "    gp = dfs['gas_passport'].copy()\n",
    "    gp['date'] = gp['date'].dt.to_period('M').dt.to_timestamp()\n",
    "    gp_series = gp.set_index('date')['Qgas, ccal/m3']\n",
    "    gp_series.name = 'Qgas_ccal_m3'\n",
    "    gp_daily = gp_series.resample('D').ffill()\n",
    "    daily_df = daily_df.join(gp_daily, how='left')\n",
    "    print(\"Qgas_ccal_m3 добавлен\")"
   ]
  },
  {
   "cell_type": "code",
   "execution_count": 21,
   "id": "fcab81e6",
   "metadata": {},
   "outputs": [
    {
     "name": "stdout",
     "output_type": "stream",
     "text": [
      "T1_c_mean, T2_c_mean добавлены\n"
     ]
    }
   ],
   "source": [
    "if 'thermal' in dfs:\n",
    "    therm = dfs['thermal'].copy()\n",
    "    therm['date'] = pd.to_datetime(therm['datetime']).dt.floor('D')\n",
    "    t1_mean = therm.groupby('date')['T1_c'].mean()\n",
    "    t2_mean = therm.groupby('date')['T2_c'].mean()\n",
    "    t1_mean.name = 'T1_c_mean'\n",
    "    t2_mean.name = 'T2_c_mean'\n",
    "    daily_df = daily_df.join(t1_mean, how='left')\n",
    "    daily_df = daily_df.join(t2_mean, how='left')\n",
    "    print(\"T1_c_mean, T2_c_mean добавлены\")"
   ]
  },
  {
   "cell_type": "code",
   "execution_count": 22,
   "id": "384acd75",
   "metadata": {},
   "outputs": [
    {
     "name": "stdout",
     "output_type": "stream",
     "text": [
      "\n",
      "Готово! Сохранено: ../data/processed/daily_merged.csv\n",
      "Строк: 1096, колонок: 6\n",
      "Колонки: ['Vgas_m3', 'Qboiler_prod_Gcal', 'air_temp_daily', 'Qgas_ccal_m3', 'T1_c_mean', 'T2_c_mean']\n"
     ]
    },
    {
     "data": {
      "text/html": [
       "<div>\n",
       "<style scoped>\n",
       "    .dataframe tbody tr th:only-of-type {\n",
       "        vertical-align: middle;\n",
       "    }\n",
       "\n",
       "    .dataframe tbody tr th {\n",
       "        vertical-align: top;\n",
       "    }\n",
       "\n",
       "    .dataframe thead th {\n",
       "        text-align: right;\n",
       "    }\n",
       "</style>\n",
       "<table border=\"1\" class=\"dataframe\">\n",
       "  <thead>\n",
       "    <tr style=\"text-align: right;\">\n",
       "      <th></th>\n",
       "      <th>Vgas_m3</th>\n",
       "      <th>Qboiler_prod_Gcal</th>\n",
       "      <th>air_temp_daily</th>\n",
       "      <th>Qgas_ccal_m3</th>\n",
       "      <th>T1_c_mean</th>\n",
       "      <th>T2_c_mean</th>\n",
       "    </tr>\n",
       "    <tr>\n",
       "      <th>date</th>\n",
       "      <th></th>\n",
       "      <th></th>\n",
       "      <th></th>\n",
       "      <th></th>\n",
       "      <th></th>\n",
       "      <th></th>\n",
       "    </tr>\n",
       "  </thead>\n",
       "  <tbody>\n",
       "    <tr>\n",
       "      <th>2022-01-01</th>\n",
       "      <td>13143.0</td>\n",
       "      <td>83.245</td>\n",
       "      <td>-1.895833</td>\n",
       "      <td>8121</td>\n",
       "      <td>91.272901</td>\n",
       "      <td>50.827322</td>\n",
       "    </tr>\n",
       "    <tr>\n",
       "      <th>2022-01-02</th>\n",
       "      <td>14814.0</td>\n",
       "      <td>103.855</td>\n",
       "      <td>-7.458333</td>\n",
       "      <td>8121</td>\n",
       "      <td>90.949248</td>\n",
       "      <td>50.598564</td>\n",
       "    </tr>\n",
       "    <tr>\n",
       "      <th>2022-01-03</th>\n",
       "      <td>14523.0</td>\n",
       "      <td>106.003</td>\n",
       "      <td>-9.795833</td>\n",
       "      <td>8121</td>\n",
       "      <td>90.042524</td>\n",
       "      <td>50.137938</td>\n",
       "    </tr>\n",
       "    <tr>\n",
       "      <th>2022-01-04</th>\n",
       "      <td>13295.0</td>\n",
       "      <td>101.535</td>\n",
       "      <td>-9.225000</td>\n",
       "      <td>8121</td>\n",
       "      <td>89.821026</td>\n",
       "      <td>50.010017</td>\n",
       "    </tr>\n",
       "    <tr>\n",
       "      <th>2022-01-05</th>\n",
       "      <td>12394.0</td>\n",
       "      <td>94.071</td>\n",
       "      <td>-7.954167</td>\n",
       "      <td>8121</td>\n",
       "      <td>89.107882</td>\n",
       "      <td>49.661876</td>\n",
       "    </tr>\n",
       "    <tr>\n",
       "      <th>2022-01-06</th>\n",
       "      <td>11657.0</td>\n",
       "      <td>79.148</td>\n",
       "      <td>-1.033333</td>\n",
       "      <td>8121</td>\n",
       "      <td>88.743491</td>\n",
       "      <td>49.470956</td>\n",
       "    </tr>\n",
       "    <tr>\n",
       "      <th>2022-01-07</th>\n",
       "      <td>15147.0</td>\n",
       "      <td>98.246</td>\n",
       "      <td>-4.779167</td>\n",
       "      <td>8121</td>\n",
       "      <td>87.862393</td>\n",
       "      <td>49.017746</td>\n",
       "    </tr>\n",
       "    <tr>\n",
       "      <th>2022-01-08</th>\n",
       "      <td>13025.0</td>\n",
       "      <td>104.087</td>\n",
       "      <td>-7.029167</td>\n",
       "      <td>8121</td>\n",
       "      <td>87.571059</td>\n",
       "      <td>48.872304</td>\n",
       "    </tr>\n",
       "    <tr>\n",
       "      <th>2022-01-09</th>\n",
       "      <td>14375.0</td>\n",
       "      <td>93.660</td>\n",
       "      <td>-5.500000</td>\n",
       "      <td>8121</td>\n",
       "      <td>86.718305</td>\n",
       "      <td>48.521103</td>\n",
       "    </tr>\n",
       "    <tr>\n",
       "      <th>2022-01-10</th>\n",
       "      <td>16478.0</td>\n",
       "      <td>108.317</td>\n",
       "      <td>-7.266667</td>\n",
       "      <td>8121</td>\n",
       "      <td>86.740680</td>\n",
       "      <td>48.514014</td>\n",
       "    </tr>\n",
       "  </tbody>\n",
       "</table>\n",
       "</div>"
      ],
      "text/plain": [
       "            Vgas_m3  Qboiler_prod_Gcal  air_temp_daily  Qgas_ccal_m3  \\\n",
       "date                                                                   \n",
       "2022-01-01  13143.0             83.245       -1.895833          8121   \n",
       "2022-01-02  14814.0            103.855       -7.458333          8121   \n",
       "2022-01-03  14523.0            106.003       -9.795833          8121   \n",
       "2022-01-04  13295.0            101.535       -9.225000          8121   \n",
       "2022-01-05  12394.0             94.071       -7.954167          8121   \n",
       "2022-01-06  11657.0             79.148       -1.033333          8121   \n",
       "2022-01-07  15147.0             98.246       -4.779167          8121   \n",
       "2022-01-08  13025.0            104.087       -7.029167          8121   \n",
       "2022-01-09  14375.0             93.660       -5.500000          8121   \n",
       "2022-01-10  16478.0            108.317       -7.266667          8121   \n",
       "\n",
       "            T1_c_mean  T2_c_mean  \n",
       "date                              \n",
       "2022-01-01  91.272901  50.827322  \n",
       "2022-01-02  90.949248  50.598564  \n",
       "2022-01-03  90.042524  50.137938  \n",
       "2022-01-04  89.821026  50.010017  \n",
       "2022-01-05  89.107882  49.661876  \n",
       "2022-01-06  88.743491  49.470956  \n",
       "2022-01-07  87.862393  49.017746  \n",
       "2022-01-08  87.571059  48.872304  \n",
       "2022-01-09  86.718305  48.521103  \n",
       "2022-01-10  86.740680  48.514014  "
      ]
     },
     "execution_count": 22,
     "metadata": {},
     "output_type": "execute_result"
    }
   ],
   "source": [
    "# Заполняем пропуски\n",
    "daily_df = daily_df.ffill().bfill()\n",
    "\n",
    "# Сохранение\n",
    "output_path = \"../data/processed/daily_merged.csv\"\n",
    "daily_df.to_csv(output_path)\n",
    "print(f\"\\nГотово! Сохранено: {output_path}\")\n",
    "print(f\"Строк: {len(daily_df)}, колонок: {len(daily_df.columns)}\")\n",
    "print(\"Колонки:\", daily_df.columns.tolist())\n",
    "\n",
    "# Показать первые строки\n",
    "daily_df.head(10)"
   ]
  },
  {
   "cell_type": "code",
   "execution_count": null,
   "id": "0dc44d8c",
   "metadata": {},
   "outputs": [],
   "source": []
  }
 ],
 "metadata": {
  "kernelspec": {
   "display_name": "venv",
   "language": "python",
   "name": "python3"
  },
  "language_info": {
   "codemirror_mode": {
    "name": "ipython",
    "version": 3
   },
   "file_extension": ".py",
   "mimetype": "text/x-python",
   "name": "python",
   "nbconvert_exporter": "python",
   "pygments_lexer": "ipython3",
   "version": "3.14.0"
  }
 },
 "nbformat": 4,
 "nbformat_minor": 5
}
